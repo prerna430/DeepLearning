{
  "nbformat": 4,
  "nbformat_minor": 0,
  "metadata": {
    "colab": {
      "name": "SpamFilterForQuora.ipynb",
      "provenance": [],
      "collapsed_sections": [],
      "authorship_tag": "ABX9TyMnBiSPsqwmeFrypAmlzqV7",
      "include_colab_link": true
    },
    "kernelspec": {
      "name": "python3",
      "display_name": "Python 3"
    },
    "accelerator": "GPU"
  },
  "cells": [
    {
      "cell_type": "markdown",
      "metadata": {
        "id": "view-in-github",
        "colab_type": "text"
      },
      "source": [
        "<a href=\"https://colab.research.google.com/github/imaaditya-stack/SpamFilterForQuoraQuestions-DeepLearning/blob/master/SpamFilterForQuora.ipynb\" target=\"_parent\"><img src=\"https://colab.research.google.com/assets/colab-badge.svg\" alt=\"Open In Colab\"/></a>"
      ]
    },
    {
      "cell_type": "markdown",
      "metadata": {
        "id": "0L5oRSV7X9zm",
        "colab_type": "text"
      },
      "source": [
        "This notebook contains PreProcessing of the text data. <br>\n",
        "I have used **NLTK kit** and made custom functions to clean the raw text data in order to extract better features from cleaned data. <br>\n",
        "The NLTK module is a massive tool kit, aimed at helping you with the entire Natural Language Processing (NLP) methodology. NLTK will aid you with everything from splitting sentences from paragraphs, splitting up words, recognizing the part of speech of those words, highlighting the main subjects, and then even with helping your machine to understand what the text is all about."
      ]
    },
    {
      "cell_type": "code",
      "metadata": {
        "id": "InKDc5PyOJc2",
        "colab_type": "code",
        "colab": {
          "base_uri": "https://localhost:8080/",
          "height": 124
        },
        "outputId": "adad29b3-dbdd-42c3-a2a6-91622cafef06"
      },
      "source": [
        "from google.colab import drive\n",
        "drive.mount('/content/drive')"
      ],
      "execution_count": 1,
      "outputs": [
        {
          "output_type": "stream",
          "text": [
            "Go to this URL in a browser: https://accounts.google.com/o/oauth2/auth?client_id=947318989803-6bn6qk8qdgf4n4g3pfee6491hc0brc4i.apps.googleusercontent.com&redirect_uri=urn%3aietf%3awg%3aoauth%3a2.0%3aoob&response_type=code&scope=email%20https%3a%2f%2fwww.googleapis.com%2fauth%2fdocs.test%20https%3a%2f%2fwww.googleapis.com%2fauth%2fdrive%20https%3a%2f%2fwww.googleapis.com%2fauth%2fdrive.photos.readonly%20https%3a%2f%2fwww.googleapis.com%2fauth%2fpeopleapi.readonly\n",
            "\n",
            "Enter your authorization code:\n",
            "··········\n",
            "Mounted at /content/drive\n"
          ],
          "name": "stdout"
        }
      ]
    },
    {
      "cell_type": "code",
      "metadata": {
        "id": "Kf7WE34A73Ca",
        "colab_type": "code",
        "colab": {}
      },
      "source": [
        "#The easiest method to installing the NLTK module is going to be with pip.\n",
        "#!pip install nltk"
      ],
      "execution_count": 0,
      "outputs": []
    },
    {
      "cell_type": "code",
      "metadata": {
        "id": "e8bLsdBMOsSb",
        "colab_type": "code",
        "outputId": "b5b7bb58-549f-45ce-bba4-ae60833d58a8",
        "colab": {
          "base_uri": "https://localhost:8080/",
          "height": 121
        }
      },
      "source": [
        "#importing packages\n",
        "import pandas as pd\n",
        "import re\n",
        "\n",
        "#we need to install some of the components for NLTK\n",
        "import nltk\n",
        "nltk.download('punkt')\n",
        "nltk.download('stopwords')\n",
        "nltk.download('wordnet')\n",
        "\n",
        "from nltk.corpus import stopwords\n",
        "from nltk.tokenize import word_tokenize\n",
        "from nltk.stem import WordNetLemmatizer\n",
        "from nltk.corpus import wordnet"
      ],
      "execution_count": 2,
      "outputs": [
        {
          "output_type": "stream",
          "text": [
            "[nltk_data] Downloading package punkt to /root/nltk_data...\n",
            "[nltk_data]   Unzipping tokenizers/punkt.zip.\n",
            "[nltk_data] Downloading package stopwords to /root/nltk_data...\n",
            "[nltk_data]   Unzipping corpora/stopwords.zip.\n",
            "[nltk_data] Downloading package wordnet to /root/nltk_data...\n",
            "[nltk_data]   Unzipping corpora/wordnet.zip.\n"
          ],
          "name": "stdout"
        }
      ]
    },
    {
      "cell_type": "code",
      "metadata": {
        "id": "GjF7td4exew4",
        "colab_type": "code",
        "colab": {}
      },
      "source": [
        "#Reading data\n",
        "df = pd.read_csv(\"/content/drive/My Drive/spamfilterdata.csv\")"
      ],
      "execution_count": 0,
      "outputs": []
    },
    {
      "cell_type": "code",
      "metadata": {
        "id": "EQUH2hzYPYt-",
        "colab_type": "code",
        "outputId": "3038ccda-cc35-4075-d0e3-387ebe25f82f",
        "colab": {
          "base_uri": "https://localhost:8080/",
          "height": 202
        }
      },
      "source": [
        "df.head()"
      ],
      "execution_count": 0,
      "outputs": [
        {
          "output_type": "execute_result",
          "data": {
            "text/html": [
              "<div>\n",
              "<style scoped>\n",
              "    .dataframe tbody tr th:only-of-type {\n",
              "        vertical-align: middle;\n",
              "    }\n",
              "\n",
              "    .dataframe tbody tr th {\n",
              "        vertical-align: top;\n",
              "    }\n",
              "\n",
              "    .dataframe thead th {\n",
              "        text-align: right;\n",
              "    }\n",
              "</style>\n",
              "<table border=\"1\" class=\"dataframe\">\n",
              "  <thead>\n",
              "    <tr style=\"text-align: right;\">\n",
              "      <th></th>\n",
              "      <th>qid</th>\n",
              "      <th>question_text</th>\n",
              "      <th>target</th>\n",
              "    </tr>\n",
              "  </thead>\n",
              "  <tbody>\n",
              "    <tr>\n",
              "      <th>0</th>\n",
              "      <td>00002165364db923c7e6</td>\n",
              "      <td>How did Quebec nationalists see their province...</td>\n",
              "      <td>0</td>\n",
              "    </tr>\n",
              "    <tr>\n",
              "      <th>1</th>\n",
              "      <td>000032939017120e6e44</td>\n",
              "      <td>Do you have an adopted dog, how would you enco...</td>\n",
              "      <td>0</td>\n",
              "    </tr>\n",
              "    <tr>\n",
              "      <th>2</th>\n",
              "      <td>0000412ca6e4628ce2cf</td>\n",
              "      <td>Why does velocity affect time? Does velocity a...</td>\n",
              "      <td>0</td>\n",
              "    </tr>\n",
              "    <tr>\n",
              "      <th>3</th>\n",
              "      <td>000042bf85aa498cd78e</td>\n",
              "      <td>How did Otto von Guericke used the Magdeburg h...</td>\n",
              "      <td>0</td>\n",
              "    </tr>\n",
              "    <tr>\n",
              "      <th>4</th>\n",
              "      <td>0000455dfa3e01eae3af</td>\n",
              "      <td>Can I convert montra helicon D to a mountain b...</td>\n",
              "      <td>0</td>\n",
              "    </tr>\n",
              "  </tbody>\n",
              "</table>\n",
              "</div>"
            ],
            "text/plain": [
              "                    qid  ... target\n",
              "0  00002165364db923c7e6  ...      0\n",
              "1  000032939017120e6e44  ...      0\n",
              "2  0000412ca6e4628ce2cf  ...      0\n",
              "3  000042bf85aa498cd78e  ...      0\n",
              "4  0000455dfa3e01eae3af  ...      0\n",
              "\n",
              "[5 rows x 3 columns]"
            ]
          },
          "metadata": {
            "tags": []
          },
          "execution_count": 118
        }
      ]
    },
    {
      "cell_type": "code",
      "metadata": {
        "id": "xYM27gxnPacX",
        "colab_type": "code",
        "outputId": "79a2683d-6932-46a1-c39e-8a6988361413",
        "colab": {
          "base_uri": "https://localhost:8080/",
          "height": 34
        }
      },
      "source": [
        "df.shape"
      ],
      "execution_count": 0,
      "outputs": [
        {
          "output_type": "execute_result",
          "data": {
            "text/plain": [
              "(1306122, 3)"
            ]
          },
          "metadata": {
            "tags": []
          },
          "execution_count": 7
        }
      ]
    },
    {
      "cell_type": "code",
      "metadata": {
        "id": "vRHc4h-UgBKa",
        "colab_type": "code",
        "outputId": "07f567db-27cf-474f-8bbb-2397c7d868d6",
        "colab": {
          "base_uri": "https://localhost:8080/",
          "height": 87
        }
      },
      "source": [
        "#Checking For any Nan values\n",
        "df.isnull().any()"
      ],
      "execution_count": 4,
      "outputs": [
        {
          "output_type": "execute_result",
          "data": {
            "text/plain": [
              "qid              False\n",
              "question_text    False\n",
              "target           False\n",
              "dtype: bool"
            ]
          },
          "metadata": {
            "tags": []
          },
          "execution_count": 4
        }
      ]
    },
    {
      "cell_type": "code",
      "metadata": {
        "id": "x3hMIit-Pj6i",
        "colab_type": "code",
        "outputId": "56f47feb-8779-40ef-8ce0-ed7fc93f9570",
        "colab": {
          "base_uri": "https://localhost:8080/",
          "height": 67
        }
      },
      "source": [
        "df.target.value_counts()"
      ],
      "execution_count": 0,
      "outputs": [
        {
          "output_type": "execute_result",
          "data": {
            "text/plain": [
              "0    1225312\n",
              "1      80810\n",
              "Name: target, dtype: int64"
            ]
          },
          "metadata": {
            "tags": []
          },
          "execution_count": 8
        }
      ]
    },
    {
      "cell_type": "markdown",
      "metadata": {
        "id": "ESiRF6uA9CtS",
        "colab_type": "text"
      },
      "source": [
        "The dataset is heavily imbalance."
      ]
    },
    {
      "cell_type": "code",
      "metadata": {
        "id": "WuEbJ7yEPxAI",
        "colab_type": "code",
        "colab": {}
      },
      "source": [
        "#Dropping qid column as it has no affect on the target variable\n",
        "df.drop(columns=\"qid\", inplace=True)"
      ],
      "execution_count": 0,
      "outputs": []
    },
    {
      "cell_type": "code",
      "metadata": {
        "id": "ia6GE3y3QXtX",
        "colab_type": "code",
        "outputId": "199c01cc-127e-4396-d777-8154e9e76124",
        "colab": {
          "base_uri": "https://localhost:8080/",
          "height": 195
        }
      },
      "source": [
        "df.head()"
      ],
      "execution_count": 0,
      "outputs": [
        {
          "output_type": "execute_result",
          "data": {
            "text/html": [
              "<div>\n",
              "<style scoped>\n",
              "    .dataframe tbody tr th:only-of-type {\n",
              "        vertical-align: middle;\n",
              "    }\n",
              "\n",
              "    .dataframe tbody tr th {\n",
              "        vertical-align: top;\n",
              "    }\n",
              "\n",
              "    .dataframe thead th {\n",
              "        text-align: right;\n",
              "    }\n",
              "</style>\n",
              "<table border=\"1\" class=\"dataframe\">\n",
              "  <thead>\n",
              "    <tr style=\"text-align: right;\">\n",
              "      <th></th>\n",
              "      <th>question_text</th>\n",
              "      <th>target</th>\n",
              "    </tr>\n",
              "  </thead>\n",
              "  <tbody>\n",
              "    <tr>\n",
              "      <th>0</th>\n",
              "      <td>How did Quebec nationalists see their province...</td>\n",
              "      <td>0</td>\n",
              "    </tr>\n",
              "    <tr>\n",
              "      <th>1</th>\n",
              "      <td>Do you have an adopted dog, how would you enco...</td>\n",
              "      <td>0</td>\n",
              "    </tr>\n",
              "    <tr>\n",
              "      <th>2</th>\n",
              "      <td>Why does velocity affect time? Does velocity a...</td>\n",
              "      <td>0</td>\n",
              "    </tr>\n",
              "    <tr>\n",
              "      <th>3</th>\n",
              "      <td>How did Otto von Guericke used the Magdeburg h...</td>\n",
              "      <td>0</td>\n",
              "    </tr>\n",
              "    <tr>\n",
              "      <th>4</th>\n",
              "      <td>Can I convert montra helicon D to a mountain b...</td>\n",
              "      <td>0</td>\n",
              "    </tr>\n",
              "  </tbody>\n",
              "</table>\n",
              "</div>"
            ],
            "text/plain": [
              "                                       question_text  target\n",
              "0  How did Quebec nationalists see their province...       0\n",
              "1  Do you have an adopted dog, how would you enco...       0\n",
              "2  Why does velocity affect time? Does velocity a...       0\n",
              "3  How did Otto von Guericke used the Magdeburg h...       0\n",
              "4  Can I convert montra helicon D to a mountain b...       0"
            ]
          },
          "metadata": {
            "tags": []
          },
          "execution_count": 10
        }
      ]
    },
    {
      "cell_type": "markdown",
      "metadata": {
        "id": "9Jjrf6ucwnJz",
        "colab_type": "text"
      },
      "source": [
        "### Number of Words\n",
        "Calculate number of words in each question\n"
      ]
    },
    {
      "cell_type": "code",
      "metadata": {
        "id": "SxuUxGXwwmce",
        "colab_type": "code",
        "outputId": "cbd5ce3c-3146-4f93-d6f8-609be5388772",
        "colab": {
          "base_uri": "https://localhost:8080/",
          "height": 202
        }
      },
      "source": [
        "df[\"word_count\"] = df[\"question_text\"].apply(lambda x: len(str(x).split(\" \")))\n",
        "df[[\"question_text\",\"word_count\"]].head()"
      ],
      "execution_count": 0,
      "outputs": [
        {
          "output_type": "execute_result",
          "data": {
            "text/html": [
              "<div>\n",
              "<style scoped>\n",
              "    .dataframe tbody tr th:only-of-type {\n",
              "        vertical-align: middle;\n",
              "    }\n",
              "\n",
              "    .dataframe tbody tr th {\n",
              "        vertical-align: top;\n",
              "    }\n",
              "\n",
              "    .dataframe thead th {\n",
              "        text-align: right;\n",
              "    }\n",
              "</style>\n",
              "<table border=\"1\" class=\"dataframe\">\n",
              "  <thead>\n",
              "    <tr style=\"text-align: right;\">\n",
              "      <th></th>\n",
              "      <th>question_text</th>\n",
              "      <th>word_count</th>\n",
              "    </tr>\n",
              "  </thead>\n",
              "  <tbody>\n",
              "    <tr>\n",
              "      <th>0</th>\n",
              "      <td>How did Quebec nationalists see their province...</td>\n",
              "      <td>13</td>\n",
              "    </tr>\n",
              "    <tr>\n",
              "      <th>1</th>\n",
              "      <td>Do you have an adopted dog, how would you enco...</td>\n",
              "      <td>16</td>\n",
              "    </tr>\n",
              "    <tr>\n",
              "      <th>2</th>\n",
              "      <td>Why does velocity affect time? Does velocity a...</td>\n",
              "      <td>10</td>\n",
              "    </tr>\n",
              "    <tr>\n",
              "      <th>3</th>\n",
              "      <td>How did Otto von Guericke used the Magdeburg h...</td>\n",
              "      <td>9</td>\n",
              "    </tr>\n",
              "    <tr>\n",
              "      <th>4</th>\n",
              "      <td>Can I convert montra helicon D to a mountain b...</td>\n",
              "      <td>15</td>\n",
              "    </tr>\n",
              "  </tbody>\n",
              "</table>\n",
              "</div>"
            ],
            "text/plain": [
              "                                       question_text  word_count\n",
              "0  How did Quebec nationalists see their province...          13\n",
              "1  Do you have an adopted dog, how would you enco...          16\n",
              "2  Why does velocity affect time? Does velocity a...          10\n",
              "3  How did Otto von Guericke used the Magdeburg h...           9\n",
              "4  Can I convert montra helicon D to a mountain b...          15"
            ]
          },
          "metadata": {
            "tags": []
          },
          "execution_count": 30
        }
      ]
    },
    {
      "cell_type": "code",
      "metadata": {
        "id": "GYYUbse4RRnC",
        "colab_type": "code",
        "outputId": "5136025b-7237-4cc2-9e9d-a998000d7172",
        "colab": {
          "base_uri": "https://localhost:8080/",
          "height": 35
        }
      },
      "source": [
        "max(df[\"word_count\"]), min(df[\"word_count\"])"
      ],
      "execution_count": 0,
      "outputs": [
        {
          "output_type": "execute_result",
          "data": {
            "text/plain": [
              "(122, 1)"
            ]
          },
          "metadata": {
            "tags": []
          },
          "execution_count": 32
        }
      ]
    },
    {
      "cell_type": "markdown",
      "metadata": {
        "id": "GlSvJ1v8-LaX",
        "colab_type": "text"
      },
      "source": [
        "The dataset contains questions where maximum words are 121 in a question and minimum is 1."
      ]
    },
    {
      "cell_type": "markdown",
      "metadata": {
        "id": "H-l4V6fxyO7b",
        "colab_type": "text"
      },
      "source": [
        "### Number of characters\n",
        "Calculate number of characters in each question\n"
      ]
    },
    {
      "cell_type": "code",
      "metadata": {
        "id": "YtMySoH1yLGz",
        "colab_type": "code",
        "outputId": "ea511f2a-8452-41df-bacd-aa3a4c3cea88",
        "colab": {
          "base_uri": "https://localhost:8080/",
          "height": 202
        }
      },
      "source": [
        "df['char_count'] = df['question_text'].str.len() ## this also includes spaces\n",
        "df[['question_text','char_count']].head()"
      ],
      "execution_count": 0,
      "outputs": [
        {
          "output_type": "execute_result",
          "data": {
            "text/html": [
              "<div>\n",
              "<style scoped>\n",
              "    .dataframe tbody tr th:only-of-type {\n",
              "        vertical-align: middle;\n",
              "    }\n",
              "\n",
              "    .dataframe tbody tr th {\n",
              "        vertical-align: top;\n",
              "    }\n",
              "\n",
              "    .dataframe thead th {\n",
              "        text-align: right;\n",
              "    }\n",
              "</style>\n",
              "<table border=\"1\" class=\"dataframe\">\n",
              "  <thead>\n",
              "    <tr style=\"text-align: right;\">\n",
              "      <th></th>\n",
              "      <th>question_text</th>\n",
              "      <th>char_count</th>\n",
              "    </tr>\n",
              "  </thead>\n",
              "  <tbody>\n",
              "    <tr>\n",
              "      <th>0</th>\n",
              "      <td>How did Quebec nationalists see their province...</td>\n",
              "      <td>72</td>\n",
              "    </tr>\n",
              "    <tr>\n",
              "      <th>1</th>\n",
              "      <td>Do you have an adopted dog, how would you enco...</td>\n",
              "      <td>81</td>\n",
              "    </tr>\n",
              "    <tr>\n",
              "      <th>2</th>\n",
              "      <td>Why does velocity affect time? Does velocity a...</td>\n",
              "      <td>67</td>\n",
              "    </tr>\n",
              "    <tr>\n",
              "      <th>3</th>\n",
              "      <td>How did Otto von Guericke used the Magdeburg h...</td>\n",
              "      <td>57</td>\n",
              "    </tr>\n",
              "    <tr>\n",
              "      <th>4</th>\n",
              "      <td>Can I convert montra helicon D to a mountain b...</td>\n",
              "      <td>77</td>\n",
              "    </tr>\n",
              "  </tbody>\n",
              "</table>\n",
              "</div>"
            ],
            "text/plain": [
              "                                       question_text  char_count\n",
              "0  How did Quebec nationalists see their province...          72\n",
              "1  Do you have an adopted dog, how would you enco...          81\n",
              "2  Why does velocity affect time? Does velocity a...          67\n",
              "3  How did Otto von Guericke used the Magdeburg h...          57\n",
              "4  Can I convert montra helicon D to a mountain b...          77"
            ]
          },
          "metadata": {
            "tags": []
          },
          "execution_count": 33
        }
      ]
    },
    {
      "cell_type": "code",
      "metadata": {
        "id": "-Cn9xW1YyLBg",
        "colab_type": "code",
        "outputId": "2d35eed3-00cb-4605-8c24-28e4dab8bc31",
        "colab": {
          "base_uri": "https://localhost:8080/",
          "height": 35
        }
      },
      "source": [
        "max(df[\"char_count\"]), min(df[\"char_count\"])"
      ],
      "execution_count": 0,
      "outputs": [
        {
          "output_type": "execute_result",
          "data": {
            "text/plain": [
              "(1017, 1)"
            ]
          },
          "metadata": {
            "tags": []
          },
          "execution_count": 34
        }
      ]
    },
    {
      "cell_type": "markdown",
      "metadata": {
        "id": "VSdAiyYO-YwN",
        "colab_type": "text"
      },
      "source": [
        "The dataset contains questions where maximum characters are 1017 in a question and minimum is 1."
      ]
    },
    {
      "cell_type": "markdown",
      "metadata": {
        "id": "TEODKc7sypT3",
        "colab_type": "text"
      },
      "source": [
        "### Number of special characters\n",
        "Calculate number of special characters in each question"
      ]
    },
    {
      "cell_type": "code",
      "metadata": {
        "id": "RFbGZrfAyK3F",
        "colab_type": "code",
        "outputId": "12379cf2-9d2a-4827-a936-d91d4935ea98",
        "colab": {
          "base_uri": "https://localhost:8080/",
          "height": 202
        }
      },
      "source": [
        "df['hastags'] = df['question_text'].apply(lambda x: len([x for x in x.split() if x.startswith('#')]))\n",
        "df[['question_text','hastags']].head()"
      ],
      "execution_count": 0,
      "outputs": [
        {
          "output_type": "execute_result",
          "data": {
            "text/html": [
              "<div>\n",
              "<style scoped>\n",
              "    .dataframe tbody tr th:only-of-type {\n",
              "        vertical-align: middle;\n",
              "    }\n",
              "\n",
              "    .dataframe tbody tr th {\n",
              "        vertical-align: top;\n",
              "    }\n",
              "\n",
              "    .dataframe thead th {\n",
              "        text-align: right;\n",
              "    }\n",
              "</style>\n",
              "<table border=\"1\" class=\"dataframe\">\n",
              "  <thead>\n",
              "    <tr style=\"text-align: right;\">\n",
              "      <th></th>\n",
              "      <th>question_text</th>\n",
              "      <th>hastags</th>\n",
              "    </tr>\n",
              "  </thead>\n",
              "  <tbody>\n",
              "    <tr>\n",
              "      <th>0</th>\n",
              "      <td>How did Quebec nationalists see their province...</td>\n",
              "      <td>0</td>\n",
              "    </tr>\n",
              "    <tr>\n",
              "      <th>1</th>\n",
              "      <td>Do you have an adopted dog, how would you enco...</td>\n",
              "      <td>0</td>\n",
              "    </tr>\n",
              "    <tr>\n",
              "      <th>2</th>\n",
              "      <td>Why does velocity affect time? Does velocity a...</td>\n",
              "      <td>0</td>\n",
              "    </tr>\n",
              "    <tr>\n",
              "      <th>3</th>\n",
              "      <td>How did Otto von Guericke used the Magdeburg h...</td>\n",
              "      <td>0</td>\n",
              "    </tr>\n",
              "    <tr>\n",
              "      <th>4</th>\n",
              "      <td>Can I convert montra helicon D to a mountain b...</td>\n",
              "      <td>0</td>\n",
              "    </tr>\n",
              "  </tbody>\n",
              "</table>\n",
              "</div>"
            ],
            "text/plain": [
              "                                       question_text  hastags\n",
              "0  How did Quebec nationalists see their province...        0\n",
              "1  Do you have an adopted dog, how would you enco...        0\n",
              "2  Why does velocity affect time? Does velocity a...        0\n",
              "3  How did Otto von Guericke used the Magdeburg h...        0\n",
              "4  Can I convert montra helicon D to a mountain b...        0"
            ]
          },
          "metadata": {
            "tags": []
          },
          "execution_count": 35
        }
      ]
    },
    {
      "cell_type": "code",
      "metadata": {
        "id": "O852T73Ny025",
        "colab_type": "code",
        "outputId": "a7ffeb6f-fc9e-4675-c3bb-ba1acd8571c3",
        "colab": {
          "base_uri": "https://localhost:8080/",
          "height": 35
        }
      },
      "source": [
        "max(df[\"hastags\"]), min(df[\"hastags\"])"
      ],
      "execution_count": 0,
      "outputs": [
        {
          "output_type": "execute_result",
          "data": {
            "text/plain": [
              "(10, 0)"
            ]
          },
          "metadata": {
            "tags": []
          },
          "execution_count": 36
        }
      ]
    },
    {
      "cell_type": "markdown",
      "metadata": {
        "id": "yC04qpaM-t0O",
        "colab_type": "text"
      },
      "source": [
        "The dataset contains questions where maximum special characters are 10 in a question and minimum is 0."
      ]
    },
    {
      "cell_type": "markdown",
      "metadata": {
        "id": "ft4WKBL6zP1b",
        "colab_type": "text"
      },
      "source": [
        "### Number of numerics\n",
        "Calculate number of numerics in dataset"
      ]
    },
    {
      "cell_type": "code",
      "metadata": {
        "id": "NGJ29f0dyKrS",
        "colab_type": "code",
        "outputId": "2609b2e9-a401-4998-a05a-ddecdca333b6",
        "colab": {
          "base_uri": "https://localhost:8080/",
          "height": 202
        }
      },
      "source": [
        "df['numerics'] = df['question_text'].apply(lambda x: len([x for x in x.split() if x.isdigit()]))\n",
        "df[['question_text','numerics']].head()"
      ],
      "execution_count": 0,
      "outputs": [
        {
          "output_type": "execute_result",
          "data": {
            "text/html": [
              "<div>\n",
              "<style scoped>\n",
              "    .dataframe tbody tr th:only-of-type {\n",
              "        vertical-align: middle;\n",
              "    }\n",
              "\n",
              "    .dataframe tbody tr th {\n",
              "        vertical-align: top;\n",
              "    }\n",
              "\n",
              "    .dataframe thead th {\n",
              "        text-align: right;\n",
              "    }\n",
              "</style>\n",
              "<table border=\"1\" class=\"dataframe\">\n",
              "  <thead>\n",
              "    <tr style=\"text-align: right;\">\n",
              "      <th></th>\n",
              "      <th>question_text</th>\n",
              "      <th>numerics</th>\n",
              "    </tr>\n",
              "  </thead>\n",
              "  <tbody>\n",
              "    <tr>\n",
              "      <th>0</th>\n",
              "      <td>How did Quebec nationalists see their province...</td>\n",
              "      <td>0</td>\n",
              "    </tr>\n",
              "    <tr>\n",
              "      <th>1</th>\n",
              "      <td>Do you have an adopted dog, how would you enco...</td>\n",
              "      <td>0</td>\n",
              "    </tr>\n",
              "    <tr>\n",
              "      <th>2</th>\n",
              "      <td>Why does velocity affect time? Does velocity a...</td>\n",
              "      <td>0</td>\n",
              "    </tr>\n",
              "    <tr>\n",
              "      <th>3</th>\n",
              "      <td>How did Otto von Guericke used the Magdeburg h...</td>\n",
              "      <td>0</td>\n",
              "    </tr>\n",
              "    <tr>\n",
              "      <th>4</th>\n",
              "      <td>Can I convert montra helicon D to a mountain b...</td>\n",
              "      <td>0</td>\n",
              "    </tr>\n",
              "  </tbody>\n",
              "</table>\n",
              "</div>"
            ],
            "text/plain": [
              "                                       question_text  numerics\n",
              "0  How did Quebec nationalists see their province...         0\n",
              "1  Do you have an adopted dog, how would you enco...         0\n",
              "2  Why does velocity affect time? Does velocity a...         0\n",
              "3  How did Otto von Guericke used the Magdeburg h...         0\n",
              "4  Can I convert montra helicon D to a mountain b...         0"
            ]
          },
          "metadata": {
            "tags": []
          },
          "execution_count": 37
        }
      ]
    },
    {
      "cell_type": "code",
      "metadata": {
        "id": "u_RQqs30zZ5u",
        "colab_type": "code",
        "outputId": "3de7510c-d78e-40b7-965b-75d3f5b23ebd",
        "colab": {
          "base_uri": "https://localhost:8080/",
          "height": 35
        }
      },
      "source": [
        "max(df[\"numerics\"]), min(df[\"numerics\"])"
      ],
      "execution_count": 0,
      "outputs": [
        {
          "output_type": "execute_result",
          "data": {
            "text/plain": [
              "(15, 0)"
            ]
          },
          "metadata": {
            "tags": []
          },
          "execution_count": 38
        }
      ]
    },
    {
      "cell_type": "markdown",
      "metadata": {
        "id": "aQ3NMPVJ_Ev4",
        "colab_type": "text"
      },
      "source": [
        "The dataset contains questions where maximum numerics are 15 in a question and minimum is 0."
      ]
    },
    {
      "cell_type": "markdown",
      "metadata": {
        "id": "wFQto5Cs_Ii4",
        "colab_type": "text"
      },
      "source": [
        "### Finding Commom Words"
      ]
    },
    {
      "cell_type": "code",
      "metadata": {
        "id": "0lLgVQpGzZ2f",
        "colab_type": "code",
        "outputId": "de1fb228-d9e4-48b9-cf37-2f383b12ed26",
        "colab": {
          "base_uri": "https://localhost:8080/",
          "height": 202
        }
      },
      "source": [
        "freq_common = pd.Series(' '.join(df['question_text']).split()).value_counts()[:10]\n",
        "freq_common"
      ],
      "execution_count": 0,
      "outputs": [
        {
          "output_type": "execute_result",
          "data": {
            "text/plain": [
              "the     653948\n",
              "What    417802\n",
              "to      403183\n",
              "a       402682\n",
              "in      363131\n",
              "is      331647\n",
              "of      330825\n",
              "I       306261\n",
              "How     261930\n",
              "and     251973\n",
              "dtype: int64"
            ]
          },
          "metadata": {
            "tags": []
          },
          "execution_count": 66
        }
      ]
    },
    {
      "cell_type": "markdown",
      "metadata": {
        "id": "QJNX7ZJq_Mxm",
        "colab_type": "text"
      },
      "source": [
        "### Finding Rare words"
      ]
    },
    {
      "cell_type": "code",
      "metadata": {
        "id": "_W09_VmUzZ0o",
        "colab_type": "code",
        "outputId": "3fe836b9-ba34-4d4c-ac2d-b583fb3cc869",
        "colab": {
          "base_uri": "https://localhost:8080/",
          "height": 202
        }
      },
      "source": [
        "freq_rare = pd.Series(' '.join(df['question_text']).split()).value_counts()[-10:]\n",
        "freq_rare"
      ],
      "execution_count": 0,
      "outputs": [
        {
          "output_type": "execute_result",
          "data": {
            "text/plain": [
              "phonepe         1\n",
              "Capoeria        1\n",
              "BASF?           1\n",
              "Mumi&Bubi       1\n",
              "Ashu            1\n",
              "avation?        1\n",
              "lunch/dinner    1\n",
              "(drunk)         1\n",
              "movies/films    1\n",
              "IDW             1\n",
              "dtype: int64"
            ]
          },
          "metadata": {
            "tags": []
          },
          "execution_count": 67
        }
      ]
    },
    {
      "cell_type": "markdown",
      "metadata": {
        "id": "gohnErmO_T5a",
        "colab_type": "text"
      },
      "source": [
        "# Pre Processing "
      ]
    },
    {
      "cell_type": "code",
      "metadata": {
        "id": "ifMlKJWWGXqC",
        "colab_type": "code",
        "colab": {}
      },
      "source": [
        "def tokenize(words):\n",
        "  \"\"\"Divides the text into a sequence of words\"\"\"\n",
        "  return(word_tokenize(words))\n",
        "\n",
        "def to_lowercase(words):\n",
        "  \"\"\"Convert all characters to lowercase from list of tokenized words\"\"\"\n",
        "  new_words = []\n",
        "  for word in words:\n",
        "      new_word = word.lower()\n",
        "      new_words.append(new_word)\n",
        "  return new_words\n",
        "\n",
        "def remove_punctuation(words):\n",
        "  \"\"\"Remove punctuation from list of tokenized words\"\"\"\n",
        "  new_words = []\n",
        "  for word in words:\n",
        "      new_word = re.sub(r'[^\\w\\s]', '', word)\n",
        "      if new_word != '':\n",
        "          new_words.append(new_word)\n",
        "  return new_words\n",
        "\n",
        "def remove_digits(words):\n",
        "  \"\"\"Remove Digits from the list of tokenized words\"\"\"\n",
        "  pattern = '[0-9]'\n",
        "  new_words = []\n",
        "  for word in words:\n",
        "      new_word = re.sub(pattern, '', word)\n",
        "      if new_word != '':\n",
        "          new_words.append(new_word) \n",
        "  return new_words\n",
        "\n",
        "def remove_stopwords(words):\n",
        "  \"\"\"Remove stop words from list of tokenized words\"\"\"\n",
        "  new_words = []\n",
        "  for word in words:\n",
        "      if word not in stopwords.words('english'):\n",
        "          new_words.append(word)\n",
        "  return new_words\n",
        "\n",
        "def get_wordnet_pos(treebank_tag):\n",
        "  \"\"\"This function is needed for Lemmatize to work for all the pos tags\"\"\"\n",
        "  if treebank_tag.startswith('J'):\n",
        "      return wordnet.ADJ\n",
        "  elif treebank_tag.startswith('V'):\n",
        "      return wordnet.VERB\n",
        "  elif treebank_tag.startswith('N'):\n",
        "      return wordnet.NOUN\n",
        "  elif treebank_tag.startswith('R'):\n",
        "      return wordnet.ADV\n",
        "  else:\n",
        "      return ''\n",
        "\n",
        "def lemmatize_verbs(words):\n",
        "  \"\"\"Lemmatize verbs in list of tokenized words\"\"\"\n",
        "  lemmatizer = WordNetLemmatizer()\n",
        "  lemmas = []\n",
        "  for word in words:\n",
        "      lemma = lemmatizer.lemmatize(word, wordnet.VERB)\n",
        "      lemmas.append(lemma)\n",
        "  return lemmas\n",
        "\n",
        "def remove_duplicates(words):\n",
        "  \"\"\"Remove duplicate words from list of tokenized words\"\"\" \n",
        "  final_words = [] \n",
        "  for word in words: \n",
        "      if word not in final_words: \n",
        "          final_words.append(word) \n",
        "  return final_words \n",
        "\n",
        "def normalize(words):\n",
        "  \"\"\"Apply all the above functions sequentially to a given input string\"\"\"\n",
        "  words = tokenize(words)\n",
        "  words = to_lowercase(words)\n",
        "  words = remove_punctuation(words)\n",
        "  words = remove_digits(words)\n",
        "  words = remove_stopwords(words)\n",
        "  words = lemmatize_verbs(words)\n",
        "  words = remove_duplicates(words)\n",
        "  return words"
      ],
      "execution_count": 0,
      "outputs": []
    },
    {
      "cell_type": "markdown",
      "metadata": {
        "id": "WfvNCWif_6y9",
        "colab_type": "text"
      },
      "source": [
        "## Testing Pre Processing Function for an individual sample"
      ]
    },
    {
      "cell_type": "markdown",
      "metadata": {
        "id": "j4I8hXFsGDNj",
        "colab_type": "text"
      },
      "source": [
        "### Sample Text 1\n",
        "Studying is #hard. Sometimes you won’t be #prepared. But taking #prescription #drugs is a #dangerous way & get an #edge. Some people have gotten hooked on these #medicines & even died. Just #budget the time to hunker down and hit those #books.?"
      ]
    },
    {
      "cell_type": "code",
      "metadata": {
        "id": "hC1AIArZQ9Ci",
        "colab_type": "code",
        "outputId": "10f3e0c5-15a3-4c7d-c293-8dc211154a65",
        "colab": {
          "base_uri": "https://localhost:8080/",
          "height": 55
        }
      },
      "source": [
        "#Output after preprocessing\n",
        "print(normalize(\"Studying is #hard. Sometimes you won’t be #prepared. But taking #prescription #drugs is a #dangerous way & get an #edge. Some people have gotten hooked on these #medicines & even died. Just #budget the time to hunker down and hit those #books.?\"))"
      ],
      "execution_count": 0,
      "outputs": [
        {
          "output_type": "stream",
          "text": [
            "['study', 'hard', 'sometimes', 'prepare', 'take', 'prescription', 'drug', 'dangerous', 'way', 'get', 'edge', 'people', 'hook', 'medicine', 'even', 'die', 'budget', 'time', 'hunker', 'hit', 'book']\n"
          ],
          "name": "stdout"
        }
      ]
    },
    {
      "cell_type": "markdown",
      "metadata": {
        "id": "9AS2Y0b-GbRU",
        "colab_type": "text"
      },
      "source": [
        "### Sample Text 2\n",
        "What is [math]\\frac{\\int_{1x^5}^{3x^{-5}} \\tan(\\tan({\\boxed{\\int_{1x^0}^{1x^2} \\sum_{\\varpi=1}^{\\infty} \\int_{2x^{-3}}^{2x^2} \\sum_{\\alpha=7}^{\\infty} \\underbrace{\\sqrt[2]{1x^5}}_{\\text{Gauss's Law of Theoretical Probability.}} d\\tau dx}}^{1x^0})) d\\mu}{\\int_{2x^{-3}}^{1x^5} \\cos(\\int_{2x^2}^{1x^{-3}} \\frac{\\sqrt[2]{\\overbrace{\\underbrace{\\frac{3x^3+3x^5}{\\sqrt[3]{2x^{-3}}}}_{\\text{Gauss's Law of Theoretical Probability.}} \\times \\overbrace{\\tan(2x^0)}^{\\text{Gauss's Law of Theoretical Probability.}}-\\sum_{4=7}^{\\infty} \\boxed{3x^{-5}}}^{\\text{Inverse Function.}}}}{{\\boxed{\\int_{2x^2}^{2x^4} 3x^1 d9} \\div \\sum_{6=6}^{\\infty} \\sqrt[3]{2x^2}+\\sqrt[4]{\\sin(2x^0+3x^0)}}^{2x^{-4}}+\\boxed{\\frac{\\vec{\\boxed{\\sum_{\\gamma=10}^{\\infty} 1x^{-5}}}}{\\frac{\\sum_{\\iota=2}^{\\infty} 1x^{-5}-\\frac{3x^{-1}}{1x^{-4}}}{\\sin(\\tan(3x^{-2}))}}}} \\times \\boxed{\\sqrt[2]{{{{\\sqrt[5]{2x^5}}^{2x^{-1}}}^{2x^{-1}} \\div \\sum_{\\chi=6}^{\\infty} \\int_{1x^4}^{2x^{-4}} 3x^2 d\\vartheta+{2x^{-3}}^{2x^{-5}}}^{3x^{-4}}}} d\\mu) d\\iota}[/math]?"
      ]
    },
    {
      "cell_type": "code",
      "metadata": {
        "id": "xAWrLXjdPszm",
        "colab_type": "code",
        "outputId": "ec6f96e2-be40-406c-a29a-fce843543715",
        "colab": {
          "base_uri": "https://localhost:8080/",
          "height": 55
        }
      },
      "source": [
        "#Output after preprocessing\n",
        "print(normalize(r\"What is [math]\\frac{\\int_{1x^5}^{3x^{-5}} \\tan(\\tan({\\boxed{\\int_{1x^0}^{1x^2} \\sum_{\\varpi=1}^{\\infty} \\int_{2x^{-3}}^{2x^2} \\sum_{\\alpha=7}^{\\infty} \\underbrace{\\sqrt[2]{1x^5}}_{\\text{Gauss's Law of Theoretical Probability.}} d\\tau dx}}^{1x^0})) d\\mu}{\\int_{2x^{-3}}^{1x^5} \\cos(\\int_{2x^2}^{1x^{-3}} \\frac{\\sqrt[2]{\\overbrace{\\underbrace{\\frac{3x^3+3x^5}{\\sqrt[3]{2x^{-3}}}}_{\\text{Gauss's Law of Theoretical Probability.}} \\times \\overbrace{\\tan(2x^0)}^{\\text{Gauss's Law of Theoretical Probability.}}-\\sum_{4=7}^{\\infty} \\boxed{3x^{-5}}}^{\\text{Inverse Function.}}}}{{\\boxed{\\int_{2x^2}^{2x^4} 3x^1 d9} \\div \\sum_{6=6}^{\\infty} \\sqrt[3]{2x^2}+\\sqrt[4]{\\sin(2x^0+3x^0)}}^{2x^{-4}}+\\boxed{\\frac{\\vec{\\boxed{\\sum_{\\gamma=10}^{\\infty} 1x^{-5}}}}{\\frac{\\sum_{\\iota=2}^{\\infty} 1x^{-5}-\\frac{3x^{-1}}{1x^{-4}}}{\\sin(\\tan(3x^{-2}))}}}} \\times \\boxed{\\sqrt[2]{{{{\\sqrt[5]{2x^5}}^{2x^{-1}}}^{2x^{-1}} \\div \\sum_{\\chi=6}^{\\infty} \\int_{1x^4}^{2x^{-4}} 3x^2 d\\vartheta+{2x^{-3}}^{2x^{-5}}}^{3x^{-4}}}} d\\mu) d\\iota}[/math]?\"))"
      ],
      "execution_count": 0,
      "outputs": [
        {
          "output_type": "stream",
          "text": [
            "['math', 'frac', 'int_', 'x', 'tan', 'box', 'sum_', 'varpi', 'infty', 'alpha', 'underbrace', 'sqrt', '_', 'text', 'gauss', 'law', 'theoretical', 'probability', 'dtau', 'dx', 'dmu', 'cos', 'overbrace', 'xx', 'time', 'inverse', 'function', 'div', 'sin', 'vec', 'gamma', 'iota', 'chi', 'dvartheta', 'diota']\n"
          ],
          "name": "stdout"
        }
      ]
    },
    {
      "cell_type": "markdown",
      "metadata": {
        "id": "4MTt6bLfAg3_",
        "colab_type": "text"
      },
      "source": [
        "## Applying Pre Processing Function on some data samples "
      ]
    },
    {
      "cell_type": "code",
      "metadata": {
        "id": "7x8v678N_0K7",
        "colab_type": "code",
        "colab": {}
      },
      "source": [
        "sampledata = pd.DataFrame(df[\"question_text\"][:5])"
      ],
      "execution_count": 0,
      "outputs": []
    },
    {
      "cell_type": "code",
      "metadata": {
        "id": "FwNNjwNM_6oq",
        "colab_type": "code",
        "outputId": "9f2b15dd-6b4d-4a5a-e1e5-4da21130e596",
        "colab": {
          "base_uri": "https://localhost:8080/",
          "height": 202
        }
      },
      "source": [
        "sampledata"
      ],
      "execution_count": 0,
      "outputs": [
        {
          "output_type": "execute_result",
          "data": {
            "text/html": [
              "<div>\n",
              "<style scoped>\n",
              "    .dataframe tbody tr th:only-of-type {\n",
              "        vertical-align: middle;\n",
              "    }\n",
              "\n",
              "    .dataframe tbody tr th {\n",
              "        vertical-align: top;\n",
              "    }\n",
              "\n",
              "    .dataframe thead th {\n",
              "        text-align: right;\n",
              "    }\n",
              "</style>\n",
              "<table border=\"1\" class=\"dataframe\">\n",
              "  <thead>\n",
              "    <tr style=\"text-align: right;\">\n",
              "      <th></th>\n",
              "      <th>question_text</th>\n",
              "    </tr>\n",
              "  </thead>\n",
              "  <tbody>\n",
              "    <tr>\n",
              "      <th>0</th>\n",
              "      <td>How did Quebec nationalists see their province...</td>\n",
              "    </tr>\n",
              "    <tr>\n",
              "      <th>1</th>\n",
              "      <td>Do you have an adopted dog, how would you enco...</td>\n",
              "    </tr>\n",
              "    <tr>\n",
              "      <th>2</th>\n",
              "      <td>Why does velocity affect time? Does velocity a...</td>\n",
              "    </tr>\n",
              "    <tr>\n",
              "      <th>3</th>\n",
              "      <td>How did Otto von Guericke used the Magdeburg h...</td>\n",
              "    </tr>\n",
              "    <tr>\n",
              "      <th>4</th>\n",
              "      <td>Can I convert montra helicon D to a mountain b...</td>\n",
              "    </tr>\n",
              "  </tbody>\n",
              "</table>\n",
              "</div>"
            ],
            "text/plain": [
              "                                       question_text\n",
              "0  How did Quebec nationalists see their province...\n",
              "1  Do you have an adopted dog, how would you enco...\n",
              "2  Why does velocity affect time? Does velocity a...\n",
              "3  How did Otto von Guericke used the Magdeburg h...\n",
              "4  Can I convert montra helicon D to a mountain b..."
            ]
          },
          "metadata": {
            "tags": []
          },
          "execution_count": 98
        }
      ]
    },
    {
      "cell_type": "code",
      "metadata": {
        "id": "b9gK4BPY_92U",
        "colab_type": "code",
        "outputId": "127a0268-3fde-4b7c-874c-4a9701a4e880",
        "colab": {
          "base_uri": "https://localhost:8080/",
          "height": 121
        }
      },
      "source": [
        "##Output after preprocessing\n",
        "sampledata[\"question_text\"].apply(lambda x: \" \".join(normalize(x)))"
      ],
      "execution_count": 0,
      "outputs": [
        {
          "output_type": "execute_result",
          "data": {
            "text/plain": [
              "0              quebec nationalists see province nation\n",
              "1                adopt dog would encourage people shop\n",
              "2                  velocity affect time space geometry\n",
              "3          otto von guericke use magdeburg hemispheres\n",
              "4    convert montra helicon mountain bike change tyres\n",
              "Name: question_text, dtype: object"
            ]
          },
          "metadata": {
            "tags": []
          },
          "execution_count": 99
        }
      ]
    },
    {
      "cell_type": "code",
      "metadata": {
        "id": "uwZ8R5SkCsks",
        "colab_type": "code",
        "colab": {}
      },
      "source": [
        "#Applying the preprocessing function on the whole dataset\n",
        "df[\"Question_text_modified\"] = df[\"question_text\"].apply(lambda x: \" \".join(normalize(x)))"
      ],
      "execution_count": 0,
      "outputs": []
    },
    {
      "cell_type": "markdown",
      "metadata": {
        "id": "x39hMcP6BF6B",
        "colab_type": "text"
      },
      "source": [
        "# Saving the cleaned dataset to a csv file for traning."
      ]
    },
    {
      "cell_type": "code",
      "metadata": {
        "id": "_ZKjeGrOW3MT",
        "colab_type": "code",
        "colab": {}
      },
      "source": [
        "df[[\"Question_text_modified\",\"target\"]].to_csv(path_or_buf='SpamFilterCleanedData.csv',sep=\",\",index=False,encoding='utf-8')"
      ],
      "execution_count": 0,
      "outputs": []
    }
  ]
}
