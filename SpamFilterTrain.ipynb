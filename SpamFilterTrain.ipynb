{
  "nbformat": 4,
  "nbformat_minor": 0,
  "metadata": {
    "colab": {
      "name": "SpamFilterTrain.ipynb",
      "provenance": [],
      "collapsed_sections": [],
      "machine_shape": "hm",
      "authorship_tag": "ABX9TyMp0GA7sxhWuS3qGCfKw8vE",
      "include_colab_link": true
    },
    "kernelspec": {
      "name": "python3",
      "display_name": "Python 3"
    },
    "accelerator": "GPU"
  },
  "cells": [
    {
      "cell_type": "markdown",
      "metadata": {
        "id": "view-in-github",
        "colab_type": "text"
      },
      "source": [
        "<a href=\"https://colab.research.google.com/github/imaaditya-stack/SpamFilterForQuoraQuestions-DeepLearning/blob/master/SpamFilterTrain.ipynb\" target=\"_parent\"><img src=\"https://colab.research.google.com/assets/colab-badge.svg\" alt=\"Open In Colab\"/></a>"
      ]
    },
    {
      "cell_type": "markdown",
      "metadata": {
        "id": "jAIAyGwkBzL1",
        "colab_type": "text"
      },
      "source": [
        "This notebook contains Training a Long Short Term Memory Neural Network LSTM from scratch to classify between **\"spam\"** and **not spam**\" examples of Quora Questions. <br>\n",
        "It is recommended to run this script on GPU, as recurrent\n",
        "networks are quite computationally intensive.\n"
      ]
    },
    {
      "cell_type": "code",
      "metadata": {
        "id": "w9Fg0C0ebiS9",
        "colab_type": "code",
        "outputId": "4a7ddbc9-a4f1-4d95-a5c1-a02c2a1cc2dd",
        "colab": {
          "base_uri": "https://localhost:8080/",
          "height": 121
        }
      },
      "source": [
        "from google.colab import drive\n",
        "drive.mount('/content/drive')"
      ],
      "execution_count": 1,
      "outputs": [
        {
          "output_type": "stream",
          "text": [
            "Go to this URL in a browser: https://accounts.google.com/o/oauth2/auth?client_id=947318989803-6bn6qk8qdgf4n4g3pfee6491hc0brc4i.apps.googleusercontent.com&redirect_uri=urn%3aietf%3awg%3aoauth%3a2.0%3aoob&response_type=code&scope=email%20https%3a%2f%2fwww.googleapis.com%2fauth%2fdocs.test%20https%3a%2f%2fwww.googleapis.com%2fauth%2fdrive%20https%3a%2f%2fwww.googleapis.com%2fauth%2fdrive.photos.readonly%20https%3a%2f%2fwww.googleapis.com%2fauth%2fpeopleapi.readonly\n",
            "\n",
            "Enter your authorization code:\n",
            "··········\n",
            "Mounted at /content/drive\n"
          ],
          "name": "stdout"
        }
      ]
    },
    {
      "cell_type": "code",
      "metadata": {
        "id": "6Qo6sr_pb1Rn",
        "colab_type": "code",
        "colab": {}
      },
      "source": [
        "#Importing Packages\n",
        "import pandas as pd\n",
        "import numpy as np\n",
        "\n",
        "#Scikit-Learn\n",
        "from sklearn.model_selection import train_test_split\n",
        "from sklearn.utils import class_weight\n",
        "\n",
        "#Keras\n",
        "import keras\n",
        "import keras.backend as K\n",
        "from keras.preprocessing.text import Tokenizer\n",
        "from keras.preprocessing import sequence\n",
        "from keras.layers import LSTM, Activation, Dense, Dropout, Input, Embedding\n",
        "from keras.models import Model\n",
        "from keras.initializers import he_uniform\n",
        "from keras.optimizers import Adam\n",
        "from keras import callbacks\n",
        "\n",
        "#Disables deprecation warnings\n",
        "from tensorflow.python.util import deprecation\n",
        "deprecation._PRINT_DEPRECATION_WARNINGS = False"
      ],
      "execution_count": 0,
      "outputs": []
    },
    {
      "cell_type": "code",
      "metadata": {
        "id": "qEuuXi8VbzO1",
        "colab_type": "code",
        "colab": {}
      },
      "source": [
        "#Reading data\n",
        "df = pd.read_csv(\"/content/drive/My Drive/SpamFilterCleanedData.csv\",sep=',')"
      ],
      "execution_count": 0,
      "outputs": []
    },
    {
      "cell_type": "code",
      "metadata": {
        "id": "F_71k1pFfM-w",
        "colab_type": "code",
        "outputId": "eea03ef8-7aca-4842-eab9-0792f520c2d0",
        "colab": {
          "base_uri": "https://localhost:8080/",
          "height": 35
        }
      },
      "source": [
        "df.shape"
      ],
      "execution_count": 0,
      "outputs": [
        {
          "output_type": "execute_result",
          "data": {
            "text/plain": [
              "(1306122, 2)"
            ]
          },
          "metadata": {
            "tags": []
          },
          "execution_count": 33
        }
      ]
    },
    {
      "cell_type": "code",
      "metadata": {
        "id": "OhAI1LMQeZso",
        "colab_type": "code",
        "outputId": "ad30e25a-7d1f-460a-9b58-88acb4754943",
        "colab": {
          "base_uri": "https://localhost:8080/",
          "height": 202
        }
      },
      "source": [
        "df.head()"
      ],
      "execution_count": 0,
      "outputs": [
        {
          "output_type": "execute_result",
          "data": {
            "text/html": [
              "<div>\n",
              "<style scoped>\n",
              "    .dataframe tbody tr th:only-of-type {\n",
              "        vertical-align: middle;\n",
              "    }\n",
              "\n",
              "    .dataframe tbody tr th {\n",
              "        vertical-align: top;\n",
              "    }\n",
              "\n",
              "    .dataframe thead th {\n",
              "        text-align: right;\n",
              "    }\n",
              "</style>\n",
              "<table border=\"1\" class=\"dataframe\">\n",
              "  <thead>\n",
              "    <tr style=\"text-align: right;\">\n",
              "      <th></th>\n",
              "      <th>Question_text_modified</th>\n",
              "      <th>target</th>\n",
              "    </tr>\n",
              "  </thead>\n",
              "  <tbody>\n",
              "    <tr>\n",
              "      <th>0</th>\n",
              "      <td>quebec nationalists see province nation</td>\n",
              "      <td>0</td>\n",
              "    </tr>\n",
              "    <tr>\n",
              "      <th>1</th>\n",
              "      <td>adopt dog would encourage people shop</td>\n",
              "      <td>0</td>\n",
              "    </tr>\n",
              "    <tr>\n",
              "      <th>2</th>\n",
              "      <td>velocity affect time space geometry</td>\n",
              "      <td>0</td>\n",
              "    </tr>\n",
              "    <tr>\n",
              "      <th>3</th>\n",
              "      <td>otto von guericke use magdeburg hemispheres</td>\n",
              "      <td>0</td>\n",
              "    </tr>\n",
              "    <tr>\n",
              "      <th>4</th>\n",
              "      <td>convert montra helicon mountain bike change tyres</td>\n",
              "      <td>0</td>\n",
              "    </tr>\n",
              "  </tbody>\n",
              "</table>\n",
              "</div>"
            ],
            "text/plain": [
              "                              Question_text_modified  target\n",
              "0            quebec nationalists see province nation       0\n",
              "1              adopt dog would encourage people shop       0\n",
              "2                velocity affect time space geometry       0\n",
              "3        otto von guericke use magdeburg hemispheres       0\n",
              "4  convert montra helicon mountain bike change tyres       0"
            ]
          },
          "metadata": {
            "tags": []
          },
          "execution_count": 34
        }
      ]
    },
    {
      "cell_type": "code",
      "metadata": {
        "id": "p2v9WwvJgTUb",
        "colab_type": "code",
        "outputId": "4ef99da5-eac3-48c7-83cd-2f31b9a71029",
        "colab": {
          "base_uri": "https://localhost:8080/",
          "height": 69
        }
      },
      "source": [
        "#Checking for Nan values\n",
        "df.isnull().any()"
      ],
      "execution_count": 0,
      "outputs": [
        {
          "output_type": "execute_result",
          "data": {
            "text/plain": [
              "Question_text_modified     True\n",
              "target                    False\n",
              "dtype: bool"
            ]
          },
          "metadata": {
            "tags": []
          },
          "execution_count": 35
        }
      ]
    },
    {
      "cell_type": "code",
      "metadata": {
        "id": "hMj6gab2gdjg",
        "colab_type": "code",
        "outputId": "a95402ca-65f6-4b7d-f74d-fdf8f592dc5f",
        "colab": {
          "base_uri": "https://localhost:8080/",
          "height": 69
        }
      },
      "source": [
        "df.isnull().sum()"
      ],
      "execution_count": 0,
      "outputs": [
        {
          "output_type": "execute_result",
          "data": {
            "text/plain": [
              "Question_text_modified    404\n",
              "target                      0\n",
              "dtype: int64"
            ]
          },
          "metadata": {
            "tags": []
          },
          "execution_count": 36
        }
      ]
    },
    {
      "cell_type": "code",
      "metadata": {
        "id": "VCM6SRZbgS1Y",
        "colab_type": "code",
        "colab": {}
      },
      "source": [
        "#Removing Nans\n",
        "df.dropna(axis=0,inplace=True)"
      ],
      "execution_count": 0,
      "outputs": []
    },
    {
      "cell_type": "code",
      "metadata": {
        "id": "xk5RRPROggwX",
        "colab_type": "code",
        "outputId": "50a1e9fc-831f-40ab-a2b3-8ecc0226d8ea",
        "colab": {
          "base_uri": "https://localhost:8080/",
          "height": 35
        }
      },
      "source": [
        "df.isnull().any().any()"
      ],
      "execution_count": 0,
      "outputs": [
        {
          "output_type": "execute_result",
          "data": {
            "text/plain": [
              "False"
            ]
          },
          "metadata": {
            "tags": []
          },
          "execution_count": 38
        }
      ]
    },
    {
      "cell_type": "markdown",
      "metadata": {
        "id": "r1phqaSQCiy7",
        "colab_type": "text"
      },
      "source": [
        "As the dataset is cleaned earlier we will again check some basic features."
      ]
    },
    {
      "cell_type": "code",
      "metadata": {
        "id": "vw-rMA4Cb0Kz",
        "colab_type": "code",
        "outputId": "8994f0f9-1fff-4116-9c37-561c793ea7da",
        "colab": {
          "base_uri": "https://localhost:8080/",
          "height": 202
        }
      },
      "source": [
        "#Number of words\n",
        "df[\"word_count\"] = df[\"Question_text_modified\"].apply(lambda x: len(str(x).split(\" \")))\n",
        "df[[\"Question_text_modified\",\"word_count\"]].head()"
      ],
      "execution_count": 0,
      "outputs": [
        {
          "output_type": "execute_result",
          "data": {
            "text/html": [
              "<div>\n",
              "<style scoped>\n",
              "    .dataframe tbody tr th:only-of-type {\n",
              "        vertical-align: middle;\n",
              "    }\n",
              "\n",
              "    .dataframe tbody tr th {\n",
              "        vertical-align: top;\n",
              "    }\n",
              "\n",
              "    .dataframe thead th {\n",
              "        text-align: right;\n",
              "    }\n",
              "</style>\n",
              "<table border=\"1\" class=\"dataframe\">\n",
              "  <thead>\n",
              "    <tr style=\"text-align: right;\">\n",
              "      <th></th>\n",
              "      <th>Question_text_modified</th>\n",
              "      <th>word_count</th>\n",
              "    </tr>\n",
              "  </thead>\n",
              "  <tbody>\n",
              "    <tr>\n",
              "      <th>0</th>\n",
              "      <td>quebec nationalists see province nation</td>\n",
              "      <td>5</td>\n",
              "    </tr>\n",
              "    <tr>\n",
              "      <th>1</th>\n",
              "      <td>adopt dog would encourage people shop</td>\n",
              "      <td>6</td>\n",
              "    </tr>\n",
              "    <tr>\n",
              "      <th>2</th>\n",
              "      <td>velocity affect time space geometry</td>\n",
              "      <td>5</td>\n",
              "    </tr>\n",
              "    <tr>\n",
              "      <th>3</th>\n",
              "      <td>otto von guericke use magdeburg hemispheres</td>\n",
              "      <td>6</td>\n",
              "    </tr>\n",
              "    <tr>\n",
              "      <th>4</th>\n",
              "      <td>convert montra helicon mountain bike change tyres</td>\n",
              "      <td>7</td>\n",
              "    </tr>\n",
              "  </tbody>\n",
              "</table>\n",
              "</div>"
            ],
            "text/plain": [
              "                              Question_text_modified  word_count\n",
              "0            quebec nationalists see province nation           5\n",
              "1              adopt dog would encourage people shop           6\n",
              "2                velocity affect time space geometry           5\n",
              "3        otto von guericke use magdeburg hemispheres           6\n",
              "4  convert montra helicon mountain bike change tyres           7"
            ]
          },
          "metadata": {
            "tags": []
          },
          "execution_count": 8
        }
      ]
    },
    {
      "cell_type": "code",
      "metadata": {
        "id": "sItpVZhWco89",
        "colab_type": "code",
        "outputId": "d33641de-9756-4ce2-8b89-becbd2165443",
        "colab": {
          "base_uri": "https://localhost:8080/",
          "height": 35
        }
      },
      "source": [
        "max(df[\"word_count\"]), min(df[\"word_count\"])"
      ],
      "execution_count": 0,
      "outputs": [
        {
          "output_type": "execute_result",
          "data": {
            "text/plain": [
              "(53, 1)"
            ]
          },
          "metadata": {
            "tags": []
          },
          "execution_count": 6
        }
      ]
    },
    {
      "cell_type": "code",
      "metadata": {
        "id": "ls2y-HJBb_h9",
        "colab_type": "code",
        "outputId": "9006d6b2-40b7-4304-97c0-ce04adea4333",
        "colab": {
          "base_uri": "https://localhost:8080/",
          "height": 202
        }
      },
      "source": [
        "#Number of characters\n",
        "df['char_count'] = df['Question_text_modified'].str.len() ## this also includes spaces\n",
        "df[['Question_text_modified','char_count']].head()"
      ],
      "execution_count": 0,
      "outputs": [
        {
          "output_type": "execute_result",
          "data": {
            "text/html": [
              "<div>\n",
              "<style scoped>\n",
              "    .dataframe tbody tr th:only-of-type {\n",
              "        vertical-align: middle;\n",
              "    }\n",
              "\n",
              "    .dataframe tbody tr th {\n",
              "        vertical-align: top;\n",
              "    }\n",
              "\n",
              "    .dataframe thead th {\n",
              "        text-align: right;\n",
              "    }\n",
              "</style>\n",
              "<table border=\"1\" class=\"dataframe\">\n",
              "  <thead>\n",
              "    <tr style=\"text-align: right;\">\n",
              "      <th></th>\n",
              "      <th>Question_text_modified</th>\n",
              "      <th>char_count</th>\n",
              "    </tr>\n",
              "  </thead>\n",
              "  <tbody>\n",
              "    <tr>\n",
              "      <th>0</th>\n",
              "      <td>quebec nationalists see province nation</td>\n",
              "      <td>39.0</td>\n",
              "    </tr>\n",
              "    <tr>\n",
              "      <th>1</th>\n",
              "      <td>adopt dog would encourage people shop</td>\n",
              "      <td>37.0</td>\n",
              "    </tr>\n",
              "    <tr>\n",
              "      <th>2</th>\n",
              "      <td>velocity affect time space geometry</td>\n",
              "      <td>35.0</td>\n",
              "    </tr>\n",
              "    <tr>\n",
              "      <th>3</th>\n",
              "      <td>otto von guericke use magdeburg hemispheres</td>\n",
              "      <td>43.0</td>\n",
              "    </tr>\n",
              "    <tr>\n",
              "      <th>4</th>\n",
              "      <td>convert montra helicon mountain bike change tyres</td>\n",
              "      <td>49.0</td>\n",
              "    </tr>\n",
              "  </tbody>\n",
              "</table>\n",
              "</div>"
            ],
            "text/plain": [
              "                              Question_text_modified  char_count\n",
              "0            quebec nationalists see province nation        39.0\n",
              "1              adopt dog would encourage people shop        37.0\n",
              "2                velocity affect time space geometry        35.0\n",
              "3        otto von guericke use magdeburg hemispheres        43.0\n",
              "4  convert montra helicon mountain bike change tyres        49.0"
            ]
          },
          "metadata": {
            "tags": []
          },
          "execution_count": 7
        }
      ]
    },
    {
      "cell_type": "code",
      "metadata": {
        "id": "700p9RtpcqD8",
        "colab_type": "code",
        "outputId": "adad5a53-2feb-49bd-9b09-4109cc87d52c",
        "colab": {
          "base_uri": "https://localhost:8080/",
          "height": 35
        }
      },
      "source": [
        "max(df[\"char_count\"]), min(df[\"char_count\"])"
      ],
      "execution_count": 0,
      "outputs": [
        {
          "output_type": "execute_result",
          "data": {
            "text/plain": [
              "(335.0, 1.0)"
            ]
          },
          "metadata": {
            "tags": []
          },
          "execution_count": 8
        }
      ]
    },
    {
      "cell_type": "code",
      "metadata": {
        "id": "4PQeCIaMgmcD",
        "colab_type": "code",
        "outputId": "9a01feda-6dd9-4a81-b239-fd3e67c8337c",
        "colab": {
          "base_uri": "https://localhost:8080/",
          "height": 202
        }
      },
      "source": [
        "#Number of special words\n",
        "df['hastags'] = df['Question_text_modified'].apply(lambda x: len([x for x in x.split() if x.startswith('#')]))\n",
        "df[['Question_text_modified','hastags']].head()"
      ],
      "execution_count": 0,
      "outputs": [
        {
          "output_type": "execute_result",
          "data": {
            "text/html": [
              "<div>\n",
              "<style scoped>\n",
              "    .dataframe tbody tr th:only-of-type {\n",
              "        vertical-align: middle;\n",
              "    }\n",
              "\n",
              "    .dataframe tbody tr th {\n",
              "        vertical-align: top;\n",
              "    }\n",
              "\n",
              "    .dataframe thead th {\n",
              "        text-align: right;\n",
              "    }\n",
              "</style>\n",
              "<table border=\"1\" class=\"dataframe\">\n",
              "  <thead>\n",
              "    <tr style=\"text-align: right;\">\n",
              "      <th></th>\n",
              "      <th>Question_text_modified</th>\n",
              "      <th>hastags</th>\n",
              "    </tr>\n",
              "  </thead>\n",
              "  <tbody>\n",
              "    <tr>\n",
              "      <th>0</th>\n",
              "      <td>quebec nationalists see province nation</td>\n",
              "      <td>0</td>\n",
              "    </tr>\n",
              "    <tr>\n",
              "      <th>1</th>\n",
              "      <td>adopt dog would encourage people shop</td>\n",
              "      <td>0</td>\n",
              "    </tr>\n",
              "    <tr>\n",
              "      <th>2</th>\n",
              "      <td>velocity affect time space geometry</td>\n",
              "      <td>0</td>\n",
              "    </tr>\n",
              "    <tr>\n",
              "      <th>3</th>\n",
              "      <td>otto von guericke use magdeburg hemispheres</td>\n",
              "      <td>0</td>\n",
              "    </tr>\n",
              "    <tr>\n",
              "      <th>4</th>\n",
              "      <td>convert montra helicon mountain bike change tyres</td>\n",
              "      <td>0</td>\n",
              "    </tr>\n",
              "  </tbody>\n",
              "</table>\n",
              "</div>"
            ],
            "text/plain": [
              "                              Question_text_modified  hastags\n",
              "0            quebec nationalists see province nation        0\n",
              "1              adopt dog would encourage people shop        0\n",
              "2                velocity affect time space geometry        0\n",
              "3        otto von guericke use magdeburg hemispheres        0\n",
              "4  convert montra helicon mountain bike change tyres        0"
            ]
          },
          "metadata": {
            "tags": []
          },
          "execution_count": 40
        }
      ]
    },
    {
      "cell_type": "code",
      "metadata": {
        "id": "DJlhUD7gg-ak",
        "colab_type": "code",
        "outputId": "1ad5fa8f-6b75-4101-f4cf-d5c672def3b4",
        "colab": {
          "base_uri": "https://localhost:8080/",
          "height": 35
        }
      },
      "source": [
        "max(df[\"hastags\"]), min(df[\"hastags\"])"
      ],
      "execution_count": 0,
      "outputs": [
        {
          "output_type": "execute_result",
          "data": {
            "text/plain": [
              "(0, 0)"
            ]
          },
          "metadata": {
            "tags": []
          },
          "execution_count": 43
        }
      ]
    },
    {
      "cell_type": "code",
      "metadata": {
        "id": "ZcXY61A7gmR5",
        "colab_type": "code",
        "outputId": "7999af9a-06aa-4701-e2ee-16fbcc7a1479",
        "colab": {
          "base_uri": "https://localhost:8080/",
          "height": 202
        }
      },
      "source": [
        "#Number of numerics\n",
        "df['numerics'] = df['Question_text_modified'].apply(lambda x: len([x for x in x.split() if x.isdigit()]))\n",
        "df[['Question_text_modified','numerics']].head()"
      ],
      "execution_count": 0,
      "outputs": [
        {
          "output_type": "execute_result",
          "data": {
            "text/html": [
              "<div>\n",
              "<style scoped>\n",
              "    .dataframe tbody tr th:only-of-type {\n",
              "        vertical-align: middle;\n",
              "    }\n",
              "\n",
              "    .dataframe tbody tr th {\n",
              "        vertical-align: top;\n",
              "    }\n",
              "\n",
              "    .dataframe thead th {\n",
              "        text-align: right;\n",
              "    }\n",
              "</style>\n",
              "<table border=\"1\" class=\"dataframe\">\n",
              "  <thead>\n",
              "    <tr style=\"text-align: right;\">\n",
              "      <th></th>\n",
              "      <th>Question_text_modified</th>\n",
              "      <th>numerics</th>\n",
              "    </tr>\n",
              "  </thead>\n",
              "  <tbody>\n",
              "    <tr>\n",
              "      <th>0</th>\n",
              "      <td>quebec nationalists see province nation</td>\n",
              "      <td>0</td>\n",
              "    </tr>\n",
              "    <tr>\n",
              "      <th>1</th>\n",
              "      <td>adopt dog would encourage people shop</td>\n",
              "      <td>0</td>\n",
              "    </tr>\n",
              "    <tr>\n",
              "      <th>2</th>\n",
              "      <td>velocity affect time space geometry</td>\n",
              "      <td>0</td>\n",
              "    </tr>\n",
              "    <tr>\n",
              "      <th>3</th>\n",
              "      <td>otto von guericke use magdeburg hemispheres</td>\n",
              "      <td>0</td>\n",
              "    </tr>\n",
              "    <tr>\n",
              "      <th>4</th>\n",
              "      <td>convert montra helicon mountain bike change tyres</td>\n",
              "      <td>0</td>\n",
              "    </tr>\n",
              "  </tbody>\n",
              "</table>\n",
              "</div>"
            ],
            "text/plain": [
              "                              Question_text_modified  numerics\n",
              "0            quebec nationalists see province nation         0\n",
              "1              adopt dog would encourage people shop         0\n",
              "2                velocity affect time space geometry         0\n",
              "3        otto von guericke use magdeburg hemispheres         0\n",
              "4  convert montra helicon mountain bike change tyres         0"
            ]
          },
          "metadata": {
            "tags": []
          },
          "execution_count": 41
        }
      ]
    },
    {
      "cell_type": "code",
      "metadata": {
        "id": "-xPVms16hFTD",
        "colab_type": "code",
        "outputId": "25a2728a-3d62-4743-b7de-e1cc1ae152d5",
        "colab": {
          "base_uri": "https://localhost:8080/",
          "height": 35
        }
      },
      "source": [
        "max(df[\"numerics\"]), min(df[\"numerics\"])"
      ],
      "execution_count": 0,
      "outputs": [
        {
          "output_type": "execute_result",
          "data": {
            "text/plain": [
              "(2, 0)"
            ]
          },
          "metadata": {
            "tags": []
          },
          "execution_count": 44
        }
      ]
    },
    {
      "cell_type": "code",
      "metadata": {
        "id": "VPernCC_hM0d",
        "colab_type": "code",
        "outputId": "d09f3059-bbe0-458b-d369-ed481f4f8078",
        "colab": {
          "base_uri": "https://localhost:8080/",
          "height": 87
        }
      },
      "source": [
        "df[\"Question_text_modified\"][df[\"numerics\"]==2]"
      ],
      "execution_count": 0,
      "outputs": [
        {
          "output_type": "execute_result",
          "data": {
            "text/plain": [
              "687189    evaluate limit ⁴x ⁴ ³x ³ x approach give function\n",
              "853043                               remainder ²²² ³ divide\n",
              "886025                                         solve ³ ⁿ² ²\n",
              "Name: Question_text_modified, dtype: object"
            ]
          },
          "metadata": {
            "tags": []
          },
          "execution_count": 45
        }
      ]
    },
    {
      "cell_type": "markdown",
      "metadata": {
        "id": "WplIegjgoq14",
        "colab_type": "text"
      },
      "source": [
        "I do not know how to clean such data so i kept it as it is."
      ]
    },
    {
      "cell_type": "markdown",
      "metadata": {
        "id": "MKDXVho1DSXr",
        "colab_type": "text"
      },
      "source": [
        "### Splitting dataset into Training and Validation set.\n",
        "### The validation set will be used for tuning the model performance"
      ]
    },
    {
      "cell_type": "code",
      "metadata": {
        "id": "45QZ5dtBdroz",
        "colab_type": "code",
        "outputId": "cd16f59d-603e-414f-ee10-71e7dfa94acc",
        "colab": {
          "base_uri": "https://localhost:8080/",
          "height": 34
        }
      },
      "source": [
        "X = df[\"Question_text_modified\"]\n",
        "y = df[\"target\"]\n",
        "\n",
        "X_train, X_test, y_train, y_test = train_test_split(X,y,test_size=0.2,stratify=y,random_state=42)\n",
        "\n",
        "(X_train.shape, X_test.shape, y_train.shape, y_test.shape)"
      ],
      "execution_count": 115,
      "outputs": [
        {
          "output_type": "execute_result",
          "data": {
            "text/plain": [
              "((1044574,), (261144,), (1044574,), (261144,))"
            ]
          },
          "metadata": {
            "tags": []
          },
          "execution_count": 115
        }
      ]
    },
    {
      "cell_type": "markdown",
      "metadata": {
        "id": "tN_tGFeSDf_i",
        "colab_type": "text"
      },
      "source": [
        "#Word Embedding\n",
        "Word embedding is the collective name for a set of language modeling and feature learning techniques in natural language processing (NLP) where words or phrases from the vocabulary are mapped to vectors of real numbers."
      ]
    },
    {
      "cell_type": "code",
      "metadata": {
        "id": "nGpIjDtKDfiZ",
        "colab_type": "code",
        "colab": {}
      },
      "source": [
        "def tokenization(data):\n",
        "\n",
        "  \"\"\"This function creates the vocabulary index based on word frequency and \n",
        "  Transforms each text in texts to a sequence of integers and \n",
        "  also returns vocabulary length\n",
        "  \"\"\"\n",
        "\n",
        "  tok = Tokenizer(char_level=False,split=' ')\n",
        "  #this creates the dictionary\n",
        "  tok.fit_on_texts(data)\n",
        "  #this transforms the texts in to sequences of indices\n",
        "  return tok.texts_to_sequences(data), len(tok.index_word.keys())\n",
        "\n",
        "def padding(sequences_data,maxlen):\n",
        "\n",
        "  \"\"\"This function pads variable length sequences.The default padding value is 0.0\"\"\"\n",
        "\n",
        "  return sequence.pad_sequences(sequences_data,maxlen=maxlen)"
      ],
      "execution_count": 0,
      "outputs": []
    },
    {
      "cell_type": "code",
      "metadata": {
        "id": "FY21RBRidfNg",
        "colab_type": "code",
        "outputId": "53f92f70-8168-46b8-c377-74cee982bac0",
        "colab": {
          "base_uri": "https://localhost:8080/",
          "height": 35
        }
      },
      "source": [
        "#Let's check how many maximum words on an average are there in the dataset\n",
        "np.quantile(df[\"word_count\"],0.95)"
      ],
      "execution_count": 0,
      "outputs": [
        {
          "output_type": "execute_result",
          "data": {
            "text/plain": [
              "13.0"
            ]
          },
          "metadata": {
            "tags": []
          },
          "execution_count": 9
        }
      ]
    },
    {
      "cell_type": "code",
      "metadata": {
        "id": "Sz4k6JESfiFd",
        "colab_type": "code",
        "colab": {}
      },
      "source": [
        "#maxlen = 13\n",
        "maxlen = 15\n",
        "sequences_train, vocab_len = tokenization(X_train)\n",
        "sequences_train_matrix = padding(sequences_train,maxlen)"
      ],
      "execution_count": 0,
      "outputs": []
    },
    {
      "cell_type": "code",
      "metadata": {
        "id": "0jgCLwEMqpgR",
        "colab_type": "code",
        "outputId": "e1845708-f2a8-4e4b-8907-2eaf7903893f",
        "colab": {
          "base_uri": "https://localhost:8080/",
          "height": 34
        }
      },
      "source": [
        "vocab_len"
      ],
      "execution_count": 118,
      "outputs": [
        {
          "output_type": "execute_result",
          "data": {
            "text/plain": [
              "181459"
            ]
          },
          "metadata": {
            "tags": []
          },
          "execution_count": 118
        }
      ]
    },
    {
      "cell_type": "markdown",
      "metadata": {
        "id": "UU9O-ZgGKjgd",
        "colab_type": "text"
      },
      "source": [
        "### The training dataset contains **181459** Unique Vocabulary"
      ]
    },
    {
      "cell_type": "code",
      "metadata": {
        "id": "_vLuEMHLMKYQ",
        "colab_type": "code",
        "colab": {}
      },
      "source": [
        "sequences_test, _ = tokenization(X_test)\n",
        "sequences_test_matrix = padding(sequences_test,maxlen)"
      ],
      "execution_count": 0,
      "outputs": []
    },
    {
      "cell_type": "markdown",
      "metadata": {
        "id": "zYPmJVyTQsFA",
        "colab_type": "text"
      },
      "source": [
        "#Building LSTM Architecture"
      ]
    },
    {
      "cell_type": "code",
      "metadata": {
        "id": "naPn2gQuhg53",
        "colab_type": "code",
        "colab": {}
      },
      "source": [
        "def build_model(input,LSTM_units,nb_classes,finalAct='sigmoid'):\n",
        "\n",
        "    \"\"\"This function Builds the LSTM Model using keras Functional API\"\"\"\n",
        "\n",
        "    #Defining basic parameters\n",
        "    embedding_input_dim = vocab_len\n",
        "    embedding_output_dim = 200\n",
        "    initializer = he_uniform(seed=200)\n",
        "    \n",
        "    #Input Layer, shape=15.0\n",
        "    inputs = Input(name='inputs',shape=[input])\n",
        "    #Embedding Layer\n",
        "    layer = Embedding(embedding_input_dim+1,embedding_output_dim,input_length=input,\n",
        "                      mask_zero=True,embeddings_initializer=initializer)(inputs)\n",
        "    #LSTM Layer\n",
        "    layer = LSTM(LSTM_units,kernel_initializer=initializer)(layer)\n",
        "    #Classifier\n",
        "    layer = Dense(units=64,name='FC1',kernel_initializer=initializer)(layer)\n",
        "    layer = Activation('relu')(layer)\n",
        "    #Dropout\n",
        "    layer = Dropout(0.5)(layer)\n",
        "    layer = Dense(nb_classes,name='Output_layer',kernel_initializer=initializer)(layer)\n",
        "    #Final Output Layer\n",
        "    layer = Activation(finalAct)(layer)\n",
        "    model = Model(inputs=inputs,outputs=layer)\n",
        "    return model"
      ],
      "execution_count": 0,
      "outputs": []
    },
    {
      "cell_type": "code",
      "metadata": {
        "id": "zqUI7Upei8Fb",
        "colab_type": "code",
        "outputId": "ddd1caee-1921-44ee-f1ca-26ac3f52df29",
        "colab": {
          "base_uri": "https://localhost:8080/",
          "height": 420
        }
      },
      "source": [
        "model = build_model(input=15,LSTM_units=100,nb_classes=1,finalAct='sigmoid')\n",
        "model.summary()"
      ],
      "execution_count": 121,
      "outputs": [
        {
          "output_type": "stream",
          "text": [
            "Model: \"model_19\"\n",
            "_________________________________________________________________\n",
            "Layer (type)                 Output Shape              Param #   \n",
            "=================================================================\n",
            "inputs (InputLayer)          (None, 15)                0         \n",
            "_________________________________________________________________\n",
            "embedding_19 (Embedding)     (None, 15, 200)           36292000  \n",
            "_________________________________________________________________\n",
            "lstm_19 (LSTM)               (None, 100)               120400    \n",
            "_________________________________________________________________\n",
            "FC1 (Dense)                  (None, 64)                6464      \n",
            "_________________________________________________________________\n",
            "activation_37 (Activation)   (None, 64)                0         \n",
            "_________________________________________________________________\n",
            "dropout_22 (Dropout)         (None, 64)                0         \n",
            "_________________________________________________________________\n",
            "Output_layer (Dense)         (None, 1)                 65        \n",
            "_________________________________________________________________\n",
            "activation_38 (Activation)   (None, 1)                 0         \n",
            "=================================================================\n",
            "Total params: 36,418,929\n",
            "Trainable params: 36,418,929\n",
            "Non-trainable params: 0\n",
            "_________________________________________________________________\n"
          ],
          "name": "stdout"
        }
      ]
    },
    {
      "cell_type": "markdown",
      "metadata": {
        "id": "RMLcX6rzLAfS",
        "colab_type": "text"
      },
      "source": [
        "### Compiling the model"
      ]
    },
    {
      "cell_type": "code",
      "metadata": {
        "id": "2wa7G3CVjBFk",
        "colab_type": "code",
        "colab": {}
      },
      "source": [
        "#Using Adam optimizer with an initial learning rate of 0.0001\n",
        "opt=Adam(lr=0.001, beta_1=0.91, beta_2=0.999, epsilon=1e-08, decay=0)\n",
        "#Compile the model\n",
        "model.compile(loss='binary_crossentropy',optimizer=opt,metrics=['accuracy'])"
      ],
      "execution_count": 0,
      "outputs": []
    },
    {
      "cell_type": "markdown",
      "metadata": {
        "id": "kwSjAEsZwWpJ",
        "colab_type": "text"
      },
      "source": [
        "### Defining Callbacks"
      ]
    },
    {
      "cell_type": "code",
      "metadata": {
        "id": "GX-sCXa_W_Jx",
        "colab_type": "code",
        "colab": {}
      },
      "source": [
        "def myCallbacks():\n",
        "\n",
        "    \"\"\"This function returns a list of callbacks\"\"\"\n",
        "\n",
        "    #Model Checkpoint\n",
        "    file_path = r\"/content/drive/My Drive/spamModel.h5\"\n",
        "    checkpoint = callbacks.ModelCheckpoint(file_path,monitor='val_acc',verbose=1,save_best_only=True,mode='auto')\n",
        "\n",
        "    #ReduceLROnPlateau\n",
        "    reduce_lr = callbacks.ReduceLROnPlateau(monitor='val_loss',factor=0.1,patience=5,min_lr=1e-30,cooldown=2,verbose=1)\n",
        "\n",
        "    # EarlyStopping\n",
        "    es = callbacks.EarlyStopping(monitor='val_loss',mode='min',verbose=1,patience=10)\n",
        "\n",
        "    return [checkpoint,reduce_lr, es]"
      ],
      "execution_count": 0,
      "outputs": []
    },
    {
      "cell_type": "markdown",
      "metadata": {
        "id": "yx8bzoLZMIfc",
        "colab_type": "text"
      },
      "source": [
        "# Training model using Keras .fit_generator()"
      ]
    },
    {
      "cell_type": "code",
      "metadata": {
        "id": "u0sPCaKoe6RX",
        "colab_type": "code",
        "colab": {}
      },
      "source": [
        "def train_batch_generator(features, labels, batch_size):\n",
        "  # Create empty arrays to contain batch of features and labels#\n",
        "  batch_features = np.zeros((batch_size, 15, ))\n",
        "  batch_labels = np.zeros((batch_size,))\n",
        "  while True:\n",
        "    for i in range(batch_size):\n",
        "      # choose random index in features\n",
        "      index = np.random.choice(len(features),1)\n",
        "      batch_features[i] = features[index]\n",
        "      batch_labels[i] = labels[index]\n",
        "    yield batch_features, batch_labels"
      ],
      "execution_count": 0,
      "outputs": []
    },
    {
      "cell_type": "code",
      "metadata": {
        "id": "o2gnB2DHh29u",
        "colab_type": "code",
        "colab": {}
      },
      "source": [
        "def validation_batch_generator(features, labels, batch_size):\n",
        "  # Create empty arrays to contain batch of features and labels#\n",
        "  batch_features = np.zeros((batch_size, 15, ))\n",
        "  batch_labels = np.zeros((batch_size,))\n",
        "  while True:\n",
        "    for i in range(batch_size):\n",
        "      # choose random index in features\n",
        "      index = np.random.choice(len(features),1)\n",
        "      batch_features[i] = features[index]\n",
        "      batch_labels[i] = labels[index]\n",
        "    yield batch_features, batch_labels"
      ],
      "execution_count": 0,
      "outputs": []
    },
    {
      "cell_type": "code",
      "metadata": {
        "id": "XGqaXilgYPmn",
        "colab_type": "code",
        "outputId": "5b6aeda7-b99f-4c8a-f20c-b07d92e5a687",
        "colab": {
          "base_uri": "https://localhost:8080/",
          "height": 34
        }
      },
      "source": [
        "#Defining class weights as the dataset is heavily imbalance\n",
        "class_weight = class_weight.compute_class_weight('balanced',np.unique(y_train),y_train)\n",
        "class_weight_dict = dict(enumerate(class_weight))\n",
        "class_weight_dict"
      ],
      "execution_count": 128,
      "outputs": [
        {
          "output_type": "execute_result",
          "data": {
            "text/plain": [
              "{0: 0.532981269165812, 1: 8.08006002568109}"
            ]
          },
          "metadata": {
            "tags": []
          },
          "execution_count": 128
        }
      ]
    },
    {
      "cell_type": "markdown",
      "metadata": {
        "id": "1qN7AJr5PiyF",
        "colab_type": "text"
      },
      "source": [
        "# Training"
      ]
    },
    {
      "cell_type": "code",
      "metadata": {
        "id": "H6egqml9i6pV",
        "colab_type": "code",
        "colab": {}
      },
      "source": [
        "#Training batch size\n",
        "tbs = 512\n",
        "#validation batch size\n",
        "vbs = 64\n",
        "training_generator = train_batch_generator(sequences_train_matrix, np.asarray(y_train),tbs)\n",
        "validation_generator = validation_batch_generator(sequences_test_matrix, np.asarray(y_test),vbs)"
      ],
      "execution_count": 0,
      "outputs": []
    },
    {
      "cell_type": "code",
      "metadata": {
        "id": "GKZuDxpkhysg",
        "colab_type": "code",
        "colab": {}
      },
      "source": [
        "epochs = 30\n",
        "steps_per_epoch = int(sequences_train_matrix.shape[0]/512)\n",
        "validation_steps = int(sequences_test_matrix.shape[0]/64)"
      ],
      "execution_count": 0,
      "outputs": []
    },
    {
      "cell_type": "code",
      "metadata": {
        "id": "ZKJlCy4_TFZn",
        "colab_type": "code",
        "outputId": "33750def-7dbc-42bf-aa54-1c82a7ce7235",
        "colab": {
          "base_uri": "https://localhost:8080/",
          "height": 806
        }
      },
      "source": [
        "history = model.fit_generator(generator=training_generator,steps_per_epoch=steps_per_epoch,\n",
        "    epochs=epochs,class_weight=class_weight_dict,\n",
        "    validation_data=validation_generator,validation_steps=validation_steps,\n",
        "    callbacks=myCallbacks(),verbose=1)"
      ],
      "execution_count": 131,
      "outputs": [
        {
          "output_type": "stream",
          "text": [
            "Epoch 1/30\n",
            "2040/2040 [==============================] - 145s 71ms/step - loss: 0.2879 - acc: 0.8829 - val_loss: 0.4234 - val_acc: 0.8335\n",
            "\n",
            "Epoch 00001: val_acc improved from -inf to 0.83351, saving model to /content/drive/My Drive/spamModel.h5\n",
            "Epoch 2/30\n",
            "2040/2040 [==============================] - 147s 72ms/step - loss: 0.2208 - acc: 0.9044 - val_loss: 0.4350 - val_acc: 0.8386\n",
            "\n",
            "Epoch 00002: val_acc improved from 0.83351 to 0.83864, saving model to /content/drive/My Drive/spamModel.h5\n",
            "Epoch 3/30\n",
            "2040/2040 [==============================] - 146s 71ms/step - loss: 0.1870 - acc: 0.9194 - val_loss: 0.4842 - val_acc: 0.8445\n",
            "\n",
            "Epoch 00003: val_acc improved from 0.83864 to 0.84446, saving model to /content/drive/My Drive/spamModel.h5\n",
            "Epoch 4/30\n",
            "2040/2040 [==============================] - 138s 68ms/step - loss: 0.1578 - acc: 0.9326 - val_loss: 0.4929 - val_acc: 0.8594\n",
            "\n",
            "Epoch 00004: val_acc improved from 0.84446 to 0.85939, saving model to /content/drive/My Drive/spamModel.h5\n",
            "Epoch 5/30\n",
            "2040/2040 [==============================] - 136s 67ms/step - loss: 0.1350 - acc: 0.9425 - val_loss: 0.5703 - val_acc: 0.8359\n",
            "\n",
            "Epoch 00005: val_acc did not improve from 0.85939\n",
            "Epoch 6/30\n",
            "2040/2040 [==============================] - 137s 67ms/step - loss: 0.1170 - acc: 0.9507 - val_loss: 0.6018 - val_acc: 0.8505\n",
            "\n",
            "Epoch 00006: val_acc did not improve from 0.85939\n",
            "\n",
            "Epoch 00006: ReduceLROnPlateau reducing learning rate to 0.00010000000474974513.\n",
            "Epoch 7/30\n",
            "2040/2040 [==============================] - 136s 67ms/step - loss: 0.1004 - acc: 0.9577 - val_loss: 0.5929 - val_acc: 0.8536\n",
            "\n",
            "Epoch 00007: val_acc did not improve from 0.85939\n",
            "Epoch 8/30\n",
            "2040/2040 [==============================] - 136s 67ms/step - loss: 0.0898 - acc: 0.9629 - val_loss: 0.6487 - val_acc: 0.8531\n",
            "\n",
            "Epoch 00008: val_acc did not improve from 0.85939\n",
            "Epoch 9/30\n",
            "2040/2040 [==============================] - 137s 67ms/step - loss: 0.0820 - acc: 0.9660 - val_loss: 0.6612 - val_acc: 0.8556\n",
            "\n",
            "Epoch 00009: val_acc did not improve from 0.85939\n",
            "Epoch 10/30\n",
            "2040/2040 [==============================] - 136s 67ms/step - loss: 0.0766 - acc: 0.9690 - val_loss: 0.6850 - val_acc: 0.8575\n",
            "\n",
            "Epoch 00010: val_acc did not improve from 0.85939\n",
            "Epoch 11/30\n",
            "2040/2040 [==============================] - 137s 67ms/step - loss: 0.0709 - acc: 0.9710 - val_loss: 0.7216 - val_acc: 0.8597\n",
            "\n",
            "Epoch 00011: val_acc improved from 0.85939 to 0.85967, saving model to /content/drive/My Drive/spamModel.h5\n",
            "Epoch 00011: early stopping\n"
          ],
          "name": "stdout"
        }
      ]
    },
    {
      "cell_type": "code",
      "metadata": {
        "id": "MN1y-qVl2wi_",
        "colab_type": "code",
        "colab": {}
      },
      "source": [
        ""
      ],
      "execution_count": 0,
      "outputs": []
    }
  ]
}